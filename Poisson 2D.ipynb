{
 "cells": [
  {
   "cell_type": "markdown",
   "id": "524e911b",
   "metadata": {},
   "source": [
    "# Poisson 2D"
   ]
  },
  {
   "cell_type": "code",
   "execution_count": 6,
   "id": "e49fc426",
   "metadata": {},
   "outputs": [
    {
     "name": "stdout",
     "output_type": "stream",
     "text": [
      "[0.03125 0.09375 0.15625 0.21875 0.28125 0.34375 0.40625 0.46875 0.53125\n",
      " 0.59375 0.65625 0.71875 0.78125 0.84375 0.90625 0.96875]\n",
      "N ->  16  | erro -> 0.012457838274481103\n"
     ]
    },
    {
     "data": {
      "image/png": "[encoded data removed]",
      "text/plain": [
       "<Figure size 432x288 with 1 Axes>"
      ]
     },
     "metadata": {
      "needs_background": "light"
     },
     "output_type": "display_data"
    }
   ],
   "source": [
    "import numpy as np\n",
    "import matplotlib.pyplot as plt\n",
    "from scipy.sparse import diags, csr_matrix\n",
    "from scipy.sparse.linalg import spsolve\n",
    "\n",
    "def phi(x,y):\n",
    "    return np.sin(2*np.pi*x)*np.sin(2*np.pi*y)\n",
    "def f(x,y):\n",
    "    return -8*(np.pi**2)*np.sin(2*np.pi*x)*np.sin(2*np.pi*y)\n",
    "\n",
    "def main():\n",
    "    N = 16\n",
    "    a = 0\n",
    "    b = 1\n",
    "    dx = (b-a)/N\n",
    "    \n",
    "    k = [np.ones(N-1),-2*np.ones(N),np.ones(N-1)]\n",
    "    offset = [-1,0,1]\n",
    "    A1 = diags(k,offset).toarray()\n",
    "    \n",
    "    A1[0][0] = A1[0][0] -1\n",
    "    A1[N-1][N-1] = A1[N-1][N-1] -1\n",
    "    \n",
    "    I = np.eye(N)\n",
    "    \n",
    "    A = csr_matrix(np.kron(A1,I) + np.kron(I,A1))\n",
    "    \n",
    "    plt.figure(1)\n",
    "    plt.spy(A)\n",
    "    \n",
    "    #PHIexata : um vetor de tamanho N^2\n",
    "    #rhs: right hand side\n",
    "    \n",
    "    phiex = np.zeros(N**2)\n",
    "    rhs = np.zeros(N**2)\n",
    "    \n",
    "    #x = np.linspace(a,b,N)\n",
    "    #y = np.linspace(a,b,N)\n",
    "    x = np.zeros(N)\n",
    "    y= np.zeros(N)\n",
    "    for i in range(N):\n",
    "        x[i] = a + (i+0.5)*dx\n",
    "        y[i] = a + (i+0.5)*dx\n",
    "    \n",
    "    for j in range(N):\n",
    "        for i in range(N):\n",
    "            phiex[i+j*N] = phi(x[i],y[j])\n",
    "            rhs[i+j*N] = (dx**2)*f(x[i],y[j])\n",
    "    \n",
    "    for i in range(N):\n",
    "        rhs[i] = rhs[i] + 2*phi(x[i],a)\n",
    "        rhs[N**2 - 1 - i] = rhs[N**2 - 1 - i] + 2*phi(x[N-1-i], b)\n",
    "    for j in range(N):\n",
    "        rhs[j*N] = rhs[j*N] + 2*phi(a,y[j])\n",
    "        rhs[(N-1)+j*N] = rhs[(N-1)+j*N] + 2*phi(b,y[j])\n",
    "    \n",
    "    phiaprox = spsolve(A,rhs)\n",
    "    print(x)\n",
    "    err = np.zeros(N**2)\n",
    "    for i in range(N**2):\n",
    "        err[i] = np.abs(phiex[i] - phiaprox[i])\n",
    "    #print(err,\"\\n\")\n",
    "    #print(\"N =\", N, \"| err ->\", np.linalg.norm(err, ord = np.inf))\n",
    "    print(\"N -> \", N, \" | erro ->\", err.max())\n",
    "    \n",
    "main()"
   ]
  },
  {
   "cell_type": "markdown",
   "id": "f60ac043",
   "metadata": {},
   "source": [
    "# Erro Poisson 2D - Convergência\n",
    "\n",
    "Razão entre os erros convergindo para $2^x$ onde x = 2, ordem do método"
   ]
  },
  {
   "cell_type": "code",
   "execution_count": 7,
   "id": "435e7a33",
   "metadata": {},
   "outputs": [
    {
     "name": "stdout",
     "output_type": "stream",
     "text": [
      "[3.63332122 3.90768102 3.97688106 3.99421784]\n"
     ]
    }
   ],
   "source": [
    "#N = 8 | err -> 0.045263328185220164\n",
    "#N = 16 | err -> 0.012457838274481103\n",
    "#N = 32 | err -> 0.0031880386905250857\n",
    "#N = 64 | err -> 0.0008016429562909266\n",
    "#N = 128 | err -> 0.00020070086036605428\n",
    "\n",
    "e = np.zeros(4)\n",
    "e[0] = 0.045263328185220164/0.012457838274481103\n",
    "e[1] = 0.012457838274481103/0.0031880386905250857\n",
    "e[2] = 0.0031880386905250857/0.0008016429562909266\n",
    "e[3] = 0.0008016429562909266/0.00020070086036605428\n",
    "\n",
    "print(e)"
   ]
  }
 ],
 "metadata": {
  "kernelspec": {
   "display_name": "Python 3 (ipykernel)",
   "language": "python",
   "name": "python3"
  },
  "language_info": {
   "codemirror_mode": {
    "name": "ipython",
    "version": 3
   },
   "file_extension": ".py",
   "mimetype": "text/x-python",
   "name": "python",
   "nbconvert_exporter": "python",
   "pygments_lexer": "ipython3",
   "version": "3.9.7"
  }
 },
 "nbformat": 4,
 "nbformat_minor": 5
}
