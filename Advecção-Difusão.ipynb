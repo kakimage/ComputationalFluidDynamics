{
 "cells": [
  {
   "cell_type": "markdown",
   "id": "5841f4aa",
   "metadata": {},
   "source": [
    "# Eq. da advecção-difusão\n",
    "\n",
    "- Alterar os elementos da matriz -<b>done</b>\n",
    " \n",
    "- Efeitos da cond. contorno na matriz -<b>done</b>\n",
    "\n",
    "- Alterar a f  -<b>done</b>\n",
    "\n",
    "$\\frac{\\partial (\\rho u \\phi)}{\\partial x} + \\frac{\\partial (\\rho v \\phi)}{\\partial y} = \\frac{\\partial}{\\partial x}(k \\frac{\\partial \\phi}{\\partial x}) + \\frac{\\partial}{\\partial y}(k \\frac{\\partial \\phi}{\\partial y}) + f(x,y)$\n",
    "\n",
    "$\\rho u = \\rho v = k = 1$\n",
    "\n",
    "$f = -\\frac{\\partial^2 \\phi}{\\partial x^2} -\\frac{\\partial^2 \\phi}{\\partial y^2} + \\frac{\\partial \\phi}{\\partial x} + \\frac{\\partial \\phi}{\\partial y}$\n",
    "\n",
    "Para uma dimensão, temos:\n",
    "\n",
    "$f = -\\frac{\\partial^2 \\phi}{\\partial x^2} + \\frac{\\partial \\phi}{\\partial x}$\n",
    "\n",
    "Discretizando:\n",
    "\n",
    "$f = -\\frac{(\\phi_{i+1} - 2\\phi_{i} + \\phi_{i-1})}{\\Delta x^2} + \\frac{(\\phi_{i+1} -\\phi_{i-1})}{2\\Delta x}$\n",
    "\n",
    "Desta forma temos que os coeficientes da matriz A1 são dados por:\n",
    "\n",
    "$-\\Delta x^2 f = \\phi_{i+1}(1+\\Delta x/2) - 2\\phi_{i} + \\phi_{i-1}(1-\\Delta x/2) + O(\\Delta x^2)$"
   ]
  },
  {
   "cell_type": "code",
   "execution_count": 1,
   "id": "7f6ebf18",
   "metadata": {
    "scrolled": false
   },
   "outputs": [
    {
     "name": "stdout",
     "output_type": "stream",
     "text": [
      "[[-3.      0.9375  0.      0.      0.      0.      0.      0.    ]\n",
      " [ 1.0625 -2.      0.9375  0.      0.      0.      0.      0.    ]\n",
      " [ 0.      1.0625 -2.      0.9375  0.      0.      0.      0.    ]\n",
      " [ 0.      0.      1.0625 -2.      0.9375  0.      0.      0.    ]\n",
      " [ 0.      0.      0.      1.0625 -2.      0.9375  0.      0.    ]\n",
      " [ 0.      0.      0.      0.      1.0625 -2.      0.9375  0.    ]\n",
      " [ 0.      0.      0.      0.      0.      1.0625 -2.      0.9375]\n",
      " [ 0.      0.      0.      0.      0.      0.      1.0625 -3.    ]]\n",
      "0.053914064318804744\n"
     ]
    },
    {
     "data": {
      "image/png": "[encoded data removed]",
      "text/plain": [
       "<Figure size 432x288 with 1 Axes>"
      ]
     },
     "metadata": {
      "needs_background": "light"
     },
     "output_type": "display_data"
    }
   ],
   "source": [
    "import numpy as np\n",
    "import matplotlib.pyplot as plt\n",
    "from scipy.sparse import diags, csr_matrix\n",
    "from scipy.sparse.linalg import spsolve\n",
    "\n",
    "def phi(x,y):\n",
    "    return np.sin(2*np.pi*x)*np.sin(2*np.pi*y)\n",
    "\n",
    "def f(x,y):\n",
    "    return 8*(np.pi**2)*np.sin(2*np.pi*x)*np.sin(2*np.pi*y) + 2*np.pi*(np.cos(2*np.pi*x)*np.sin(2*np.pi*y)) + 2*np.pi*(np.sin(2*np.pi*x)*np.cos(2*np.pi*y))\n",
    "    \n",
    "def main():\n",
    "    N = 8\n",
    "    a = 0\n",
    "    b = 1\n",
    "    dx = (b-a)/N\n",
    "    \n",
    "    k = [np.ones(N-1)*(1+dx/2),-2*np.ones(N),np.ones(N-1)*(1-dx/2)]\n",
    "    offset = [-1,0,1]\n",
    "    A1 = diags(k,offset).toarray()\n",
    "    \n",
    "    A1[0][0] = A1[0][0] -1\n",
    "    A1[N-1][N-1] = A1[N-1][N-1] -1\n",
    "    \n",
    "    I = np.eye(N)\n",
    "    \n",
    "    A = csr_matrix(np.kron(A1,I) + np.kron(I,A1))\n",
    "    \n",
    "    plt.figure(1)\n",
    "    plt.spy(A)\n",
    "    \n",
    "    phiex = np.zeros(N**2)\n",
    "    rhs = np.zeros(N**2)\n",
    "\n",
    "    x = np.zeros(N)\n",
    "    y= np.zeros(N)\n",
    "    for i in range(N):\n",
    "        x[i] = a + (i+0.5)*dx\n",
    "        y[i] = a + (i+0.5)*dx\n",
    "    \n",
    "    for j in range(N):\n",
    "        for i in range(N):\n",
    "            phiex[i+j*N] = phi(x[i],y[j])\n",
    "            rhs[i+j*N] = -1*(dx**2)*f(x[i],y[j])\n",
    "    \n",
    "    for i in range(N):\n",
    "        rhs[i] = rhs[i] + 2*phi(x[i],a)\n",
    "        rhs[N**2 - 1 - i] = rhs[N**2 - 1 - i] + 2*phi(x[N-1-i], b)\n",
    "    for j in range(N):\n",
    "        rhs[j*N] = rhs[j*N] + 2*phi(a,y[j])\n",
    "        rhs[(N-1)+j*N] = rhs[(N-1)+j*N] + 2*phi(b,y[j])\n",
    "    \n",
    "    phiaprox = spsolve(A,rhs)\n",
    "    #print(x)\n",
    "    err = np.zeros(N**2)\n",
    "    for i in range(N**2):\n",
    "        err[i] = np.abs(phiex[i] - phiaprox[i])\n",
    "    #print(\"N =\", N, \"| err ->\", np.linalg.norm(err, ord = np.inf))\n",
    "    print(A1)\n",
    "    print(err.max())\n",
    "    \n",
    "main()"
   ]
  },
  {
   "cell_type": "code",
   "execution_count": null,
   "id": "bdb31af1",
   "metadata": {},
   "outputs": [],
   "source": []
  }
 ],
 "metadata": {
  "kernelspec": {
   "display_name": "Python 3 (ipykernel)",
   "language": "python",
   "name": "python3"
  },
  "language_info": {
   "codemirror_mode": {
    "name": "ipython",
    "version": 3
   },
   "file_extension": ".py",
   "mimetype": "text/x-python",
   "name": "python",
   "nbconvert_exporter": "python",
   "pygments_lexer": "ipython3",
   "version": "3.9.7"
  }
 },
 "nbformat": 4,
 "nbformat_minor": 5
}
