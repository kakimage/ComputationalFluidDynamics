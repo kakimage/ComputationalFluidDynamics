{
 "cells": [
  {
   "cell_type": "markdown",
   "id": "a22e0d57",
   "metadata": {},
   "source": [
    "# 27/04/2022\n",
    "# Aproximação de derivadas\n",
    "<h4>Equações diferenciais ordinárias</h4>\n",
    "\n",
    "**Exemplo 1**: Use o método de Euler para obter uma solução aproximada no instante de tempo $t=1$.\n",
    "\n",
    "$$\\begin{array}{l}\n",
    "y'(t) = -y(t)tan(t) - \\dfrac{1}{\\cos(t)}, t\\in [0,1]\\\\\n",
    "y(0) = 1\n",
    "\\end{array}$$\n",
    "\n",
    "\n",
    "Solução exata $y(t) = cos(t) - sin(t)$\n",
    "\n",
    "Exemplo das notas de aula de Tratamento Numérico de Equações Diferenciais Ordinárias (pág. 41)"
   ]
  },
  {
   "cell_type": "markdown",
   "id": "02370860",
   "metadata": {},
   "source": [
    "Verificação numérica:\n",
    "$\\dfrac {E_\\Delta t}{E_{\\Delta t/2}} \\approx \\dfrac {\\Delta _t ^P}{\\dfrac {\\Delta _t ^P} {2^P}} \\approx 2^P$\n",
    "\n",
    "Dividindo o intervalo $\\Delta$t /2, /4, /8, etc. => Uma sequência deve convergir para $2^P$\n",
    "\n",
    "\n",
    "Método de Euler : P = 1\n",
    "\n",
    "$y_{k+1} = \\Delta t f(t_k, y_k)$"
   ]
  },
  {
   "cell_type": "code",
   "execution_count": 43,
   "id": "f469f0ca",
   "metadata": {},
   "outputs": [
    {
     "name": "stdout",
     "output_type": "stream",
     "text": [
      "tempo: 1.0 | aprox: -0.3003499010490769 | erro: 0.000818777890679856\n"
     ]
    }
   ],
   "source": [
    "import numpy as np\n",
    "import matplotlib.pyplot as plt\n",
    "def f(t, y):\n",
    "    return (-y*np.tan(t) - 1.0/np.cos(t))\n",
    "\n",
    "def yexata(t):\n",
    "    return(np.cos(t) - np.sin(t))\n",
    "\n",
    "def main():\n",
    "    t0 = 0\n",
    "    tf = 1\n",
    "    y0 = 1\n",
    "    N = 128\n",
    "    dt = (tf - t0)/N\n",
    "    \n",
    "    for i in range(N):\n",
    "        yk = y0 + dt*f(t0,y0)\n",
    "        tk = t0 + dt\n",
    "        y0 = yk\n",
    "        t0 = tk\n",
    "    print(\"tempo:\", tk, \"| aprox:\", yk, \"| erro:\", np.abs(yk - yexata(tk)))\n",
    "        \n",
    "main()\n",
    "\n"
   ]
  },
  {
   "cell_type": "markdown",
   "id": "066360b2",
   "metadata": {},
   "source": [
    "$N = 8: aprox: -0.2860949536862282 | erro: 0.015073725253528514$\n",
    "$N = 16: aprox: -0.2941778331746919 | erro: 0.006990845765064813$\n",
    "$N = 32: aprox: -0.2978011748686282 | erro: 0.003367504071128513$\n",
    "$N = 64: aprox: -0.2995158891163641 | erro: 0.0016527898233926197$\n",
    "$N = 128: aprox: -0.3003499010490769 | erro: 0.000818777890679856$"
   ]
  },
  {
   "cell_type": "code",
   "execution_count": 62,
   "id": "5f6debb4",
   "metadata": {
    "scrolled": true
   },
   "outputs": [
    {
     "name": "stdout",
     "output_type": "stream",
     "text": [
      "2.1562090997424206 2.075972476173444 2.037466605533766 2.0186058297449367\n"
     ]
    }
   ],
   "source": [
    "R1 = 0.015073725253528514/0.006990845765064813 \n",
    "R2 = 0.006990845765064813/0.003367504071128513\n",
    "R3 = 0.003367504071128513/0.0016527898233926197\n",
    "R4 = 0.0016527898233926197/0.000818777890679856\n",
    "\n",
    "print(R1, R2, R3, R4)"
   ]
  },
  {
   "cell_type": "markdown",
   "id": "93caee9e",
   "metadata": {},
   "source": [
    "# Método de diferenças finitas\n",
    "\n",
    "**Exemplo 2**: Use o método de Diferenças Finitas para aproximar as derivadas $f'(x)$ e $f''(x)$ da função $f(x) = 10cos(x)$.\n",
    "\n",
    "$f'(x) = -10sin(x)$\n",
    "\n",
    "$f''(x) = -10cos(x)$"
   ]
  },
  {
   "cell_type": "markdown",
   "id": "39e0e347",
   "metadata": {},
   "source": [
    "$f'(x) = \\dfrac {f(x + \\Delta x) - f(x)}{\\Delta x} + O(\\Delta x)$\n",
    "\n",
    "$f'(x) = \\dfrac {f(x + \\Delta x) - f(x - \\Delta x)}{2\\Delta x} + O((\\Delta x) ^2)$\n",
    "\n",
    "$f''(x) = \\dfrac {f(x - \\Delta x) - 2f(x) + f(x + \\Delta x)}{(\\Delta x)^2} + O((\\Delta x) ^2)$"
   ]
  },
  {
   "cell_type": "markdown",
   "id": "b5a8567a",
   "metadata": {},
   "source": [
    "# 11/05/2022\n",
    "<h2> Equação de Poisson 1D </h2>\n",
    "\n",
    "$\\frac {\\partial^2 \\phi}{\\partial x^2} = f, x \\in [0,1]$\n",
    "\n",
    "Cond. contorno: $\\phi(0) = 0, \\phi(1)=0$\n",
    "\n",
    "Sol. exata: $\\phi(x) = \\sin(\\pi x)$\n",
    "\n",
    "Nesse caso f(x) = $-\\pi^2 \\sin(x)$\n",
    "\n",
    "Usando diferenças finitas."
   ]
  },
  {
   "cell_type": "code",
   "execution_count": 104,
   "id": "2d40bcc5",
   "metadata": {},
   "outputs": [
    {
     "name": "stdout",
     "output_type": "stream",
     "text": [
      "Solução:  [0.3360017  0.6720034  0.89896034 0.98344345 0.91371399 0.70151069\n",
      " 0.38026264]\n",
      "\n",
      "\n",
      "Ordem do erro: 0.015625\n",
      "\n",
      "\n",
      "Erro obtido: [0.04668173453118135, 0.03510338551873071, 0.02491919212891891, 0.01655655084292129, 0.010165543346518424, 0.005596087953929851, 0.0024207881839805045]\n"
     ]
    }
   ],
   "source": [
    "import numpy as np\n",
    "import matplotlib.pyplot as plt\n",
    "from scipy.sparse import diags\n",
    "\n",
    "def f(x):\n",
    "    conv = x*180/np.pi\n",
    "    return(-np.sin(x*np.pi)*np.pi**2)\n",
    "\n",
    "def yexata(x):\n",
    "    return(np.sin(np.pi*x))\n",
    "\n",
    "def main():\n",
    "    N = 8\n",
    "    phi = []\n",
    "    phizero = 0\n",
    "    phin = 0\n",
    "    xf = 1\n",
    "    xi = 0\n",
    "    dx = (xf - xi)/N\n",
    "    \n",
    "    k = [np.ones(N-2),-2*np.ones(N-1),np.ones(N-2)]\n",
    "    offset = [-1,0,1]\n",
    "    A = diags(k,offset).toarray()\n",
    "\n",
    "    dxi = dx\n",
    "    \n",
    "    phi.append((dx**2)*f(xi) - phizero) ## f1 - \\phi0\n",
    "    for i in range (1,N-2):\n",
    "        dxi = dxi + dx\n",
    "        phi.append((dx**2)*f(dxi))\n",
    "        \n",
    "    phi.append((dx**2)*f(xf-dx) - phin) ## fn-1 - \\phi n\n",
    "    \n",
    "    x = np.linalg.solve(A,phi)\n",
    "    \n",
    "    err = []\n",
    "    dxi = dx\n",
    "    for i in range (N-1):\n",
    "        err.append(yexata(dxi) - x[i])\n",
    "        dxi = dxi + dx\n",
    "    \n",
    "    print(\"Solução: \", x)\n",
    "    print(\"\\n\")\n",
    "    print(\"Ordem do erro:\", dx**2)\n",
    "    print(\"\\n\")\n",
    "    print(\"Erro obtido:\", err)\n",
    "    \n",
    "        \n",
    "main()\n"
   ]
  },
  {
   "cell_type": "markdown",
   "id": "a93c072c",
   "metadata": {},
   "source": [
    "# 25/05/2022\n",
    "<h2> Comportamento de Estabilidade - Equação de Advecção </h2>\n",
    "\n",
    "\n",
    "$\\frac {\\partial u}{\\partial t} + v\\frac {\\partial u}{\\partial x} = 0$\n",
    "com v uma constante e condição inicial $u(0,x) = f(x) = e^{-x^2}$\n",
    "\n",
    "\n",
    "$t \\in [-10, 10]$\n",
    "\n",
    "Sol. exata: $u(t,x) = f(x-vt) ,  t>0$\n",
    "\n",
    "\n",
    "\n",
    "$\\frac {\\partial u}{\\partial x} ~= v\\frac {u(x+ \\Delta x)-u(x- \\Delta x)}{2\\Delta x} + O(\\Delta x^2)$\n",
    "\n",
    "Usando Euler para aproximar a derivada no tempo, teremos:\n",
    "\n",
    "$u_i^{n+1} = u_i^n - \\frac {v \\Delta t}{2 \\Delta x}(u_{i+1}^n - u_{i-1}^n)$"
   ]
  },
  {
   "cell_type": "code",
   "execution_count": 51,
   "id": "d808b7c7",
   "metadata": {
    "scrolled": false
   },
   "outputs": [
    {
     "data": {
      "image/png": "[encoded data removed]",
      "text/plain": [
       "<Figure size 432x288 with 1 Axes>"
      ]
     },
     "metadata": {
      "needs_background": "light"
     },
     "output_type": "display_data"
    },
    {
     "data": {
      "image/png": "[encoded data removed]",
      "text/plain": [
       "<Figure size 432x288 with 1 Axes>"
      ]
     },
     "metadata": {
      "needs_background": "light"
     },
     "output_type": "display_data"
    },
    {
     "data": {
      "image/png": "[encoded data removed]",
      "text/plain": [
       "<Figure size 432x288 with 1 Axes>"
      ]
     },
     "metadata": {
      "needs_background": "light"
     },
     "output_type": "display_data"
    },
    {
     "data": {
      "image/png": "[encoded data removed]",
      "text/plain": [
       "<Figure size 432x288 with 1 Axes>"
      ]
     },
     "metadata": {
      "needs_background": "light"
     },
     "output_type": "display_data"
    }
   ],
   "source": [
    "import numpy as np\n",
    "import matplotlib.pyplot as plt\n",
    "from scipy.sparse import diags\n",
    "\n",
    "def f(x):\n",
    "    return np.e**(-x**2)\n",
    "\n",
    "def u(t,x,v):\n",
    "    return f(x - v*t)\n",
    "\n",
    "def main():\n",
    "    N = 100\n",
    "    t = 0\n",
    "    tf = 8\n",
    "    \n",
    "    v = 1\n",
    "    a = -10\n",
    "    b = 20\n",
    "    dx = (b-a)/N\n",
    "    dt = dx\n",
    "    \n",
    "    \n",
    "    x = np.linspace(a,b,N+1)\n",
    "    \n",
    "    Uaprox = np.zeros(N+1)\n",
    "    Uex = np.zeros(N+1)\n",
    "    Uold = np.zeros(N+1)\n",
    "    Uo = np.zeros(N+1)\n",
    "    \n",
    "    for i in range(N+1):\n",
    "        Uold[i] = u(t,x[i],v)\n",
    "    for i in range(N+1):\n",
    "        Uo[i] = u(t,x[i],v)\n",
    "        \n",
    "    \n",
    "    ct = 0\n",
    "    while(t<tf+dt/2):\n",
    "        for i in range(1,N):\n",
    "            c = v*dt/(2*dx)\n",
    "            Uaprox[i] = Uold[i] - c*(Uold[i+1]-Uold[i-1])\n",
    "            Uex[i] = u(t+dt,x[i],v)\n",
    "            \n",
    "        Uold = Uaprox\n",
    "        dt = min(dt, tf-t)\n",
    "        t = t+dt\n",
    "        ct = ct+1\n",
    "        if(ct%10 == 0):\n",
    "            plt.figure(1)\n",
    "            plt.plot(x, Uo, '-', label=\"exata\")\n",
    "            plt.plot(x, Uaprox, '-', label=\"aprox\")\n",
    "            plt.legend()\n",
    "            plt.show()\n",
    "\n",
    "    plt.figure(2)\n",
    "    plt.plot(x, Uo, '--', label=\"exata\")\n",
    "    plt.plot(x, Uaprox, '--', label=\"aprox\")\n",
    "    plt.legend()\n",
    "    plt.show()\n",
    "    \n",
    "    plt.figure(3)\n",
    "    plt.plot(x, Uex, '-')\n",
    "    \n",
    "main()\n"
   ]
  },
  {
   "cell_type": "markdown",
   "id": "4e109b30",
   "metadata": {},
   "source": [
    "<h4> Upwind </h4>\n",
    "$u_i^{n+1} = u_i^n - \\frac {v \\Delta t}{\\Delta x}(u_{i}^n - u_{i-1}^n)$, se v > 0\n",
    "\n",
    "\n",
    "$u_i^{n+1} = u_i^n - \\frac {v \\Delta t}{\\Delta x}(u_{i+1}^n - u_{i}^n)$, se v < 0"
   ]
  },
  {
   "cell_type": "markdown",
   "id": "dc91e62e",
   "metadata": {},
   "source": [
    "<h1>01/06/2022</h1>\n",
    "<h2>Equação do calor 2D</h2>\n",
    "\n",
    "$\\frac {\\partial T}{\\partial t} = k(\\frac {\\partial^2 T}{\\partial x^2} + \\frac {\\partial^2 T}{\\partial y^2}) + f(t,x,y)$\n",
    "\n",
    "Exemplo para teste: \n",
    "$T(t,x,y) = e^{-t} sin(2\\pi x)sin(2\\pi y)$\n",
    "\n",
    "a = b = 1\n",
    "\n",
    "k = 1\n",
    "\n",
    "-Condições de contorno Dirichlet\n",
    "\n",
    "-Condição inicial:\n",
    "$T(0,x,y)= sin(2\\pi x)sin(2\\pi y)$\n",
    "\n",
    "\n",
    "Vamos iniciar um relatório em latex overleaf"
   ]
  },
  {
   "cell_type": "code",
   "execution_count": 2,
   "id": "2fcc006a",
   "metadata": {
    "scrolled": true
   },
   "outputs": [],
   "source": [
    "import numpy as np\n",
    "import matplotlib.pyplot as plt\n",
    "from scipy.sparse import diags\n",
    "\n",
    "def T(t,x,y):\n",
    "    return np.e**(-t)*np.sin(2*np.pi*x)*np.sin(2*np.pi*y)\n",
    "\n",
    "def main():\n",
    "    N = 4\n",
    "    t = 0\n",
    "    tf = 1\n",
    "    \n",
    "    k = 1\n",
    "    x0 = 0\n",
    "    xf = 2*np.pi\n",
    "    y0 = 0\n",
    "    yf = 2*np.pi\n",
    "    dx = (xf-x0)/N\n",
    "    dy = (yf-y0)/N\n",
    "    dt = dx\n",
    "    \n",
    "    \n",
    "    x = np.linspace(x0,xf,N+1)\n",
    "    y = np.linspace(y0,yf,N+1)\n",
    "    \n",
    "    Uaprox = np.zeros((N+1,N+1))\n",
    "    Uex = np.zeros((N+1,N+1))\n",
    "    Uold = np.zeros((N+1,N+1))\n",
    "    \n",
    "    for i in range(N+1):\n",
    "        for j in range(N+1):\n",
    "            Uold[i][j] = T(t,x[i],y[j])\n",
    "    #T(x+dx/2,y) + T(x-dx/2,y) = 2T(x,y) + O(dx^2)\n",
    "    print(Uold)\n",
    "    \n",
    "    while(t<tf+dt/2):\n",
    "        for i in range(1,N):\n",
    "            for j in range(1,N):\n",
    "                Uaprox[i][j] = Uold[i-1][j-1]\n",
    "                Uex[i][j] = T(t+dt,x[i],y[j])\n",
    "        Uold = Uaprox\n",
    "        dt = min(dt, tf-t)\n",
    "        t = t+dt\n",
    "#main()\n"
   ]
  },
  {
   "cell_type": "markdown",
   "id": "133db98d",
   "metadata": {},
   "source": [
    "<h2>08/06/2022</h2>\n",
    "<h1>Equação de Poisson 2D</h1>\n",
    "\n",
    "$\\frac {\\partial \\phi}{\\partial x^2} + \\frac {\\partial \\phi}{\\partial y^2} = f(x,y)$\n",
    "\n",
    "\n",
    "Função exata p/ comparação: $\\phi(x,y) = sin(2\\pi x)sin(2\\pi y)$\n",
    "\n",
    "\n",
    "$\\Omega = [0,1]x[0,1]$\n",
    "\n",
    "$f(x,y) = -8\\pi^2 sin(2\\pi x)sin(2\\pi y)$\n",
    "\n",
    "Condições de fronteira Dirichlet\n",
    "\n",
    "Diferenças finitas:\n",
    "\n",
    "$\\phi(x+\\frac{\\Delta x}{2}, y) = \\phi(x,y) + \\frac{\\Delta x}{2}\\frac{\\partial \\phi (x,y)}{\\partial x} + O(\\Delta x^2)$ (1)\n",
    "\n",
    "$\\phi(x-\\frac{\\Delta x}{2}, y) = \\phi(x,y) - \\frac{\\Delta x}{2}\\frac{\\partial \\phi (x,y)}{\\partial x} + O(\\Delta x^2)$ (2)\n",
    "\n",
    "Somando (1) e (2)\n",
    "\n",
    "$\\phi(x+\\frac{\\Delta x}{2}, y) + \\phi(x-\\frac{\\Delta x}{2}, y) = 2\\phi(x,y) + O(\\Delta x^2)$\n",
    "\n",
    "$\\phi(x,y) = \\frac{\\phi(x+\\frac{\\Delta x}{2}, y) + \\phi(x-\\frac{\\Delta x}{2}, y)}{2}$\n",
    "\n",
    "$\\phi(x-\\frac{\\Delta x}{2}, y) = 2\\phi(x,y) + O(\\Delta x^2) - \\phi(x+\\frac{\\Delta x}{2}, y)$\n",
    "\n",
    "\n",
    "Cond. contorno:$-2\\phi(a,y_0)+\\phi_0$\n",
    "\n",
    "$(\\frac{-2\\phi(a,y_0)+\\phi_0 + 2\\phi_0 -\\phi_1}{\\Delta x^2})+(\\frac{-2\\phi(x_0,a) + \\phi_0 +2\\phi_0 - \\phi_4)}{\\Delta y^2}) = f_0$\n",
    "\n",
    "\n",
    "$\\Delta x^2 = \\Delta y^2 = h^2$\n",
    "\n",
    "$6\\phi_0 - \\phi_1 - \\phi_4 = f_0h^2 +2\\phi(a,y_0)+2\\phi(x_0,a)$\n",
    "\n",
    "2nd eq.:\n",
    "\n",
    "$\\phi_0 + 2\\phi_1 - \\phi_2 -(2\\phi(x_1,a) - \\phi_1) + 2\\phi_1 - \\phi_5 = f_1h^2$\n",
    "\n",
    "$-\\phi_0 + 5\\phi_1 - \\phi_2 -\\phi_5 = f_1h^2 + 2\\phi(x_1,a)$"
   ]
  },
  {
   "cell_type": "markdown",
   "id": "7751d1c6",
   "metadata": {},
   "source": [
    "matriz: [\n",
    "        [6 -1 0 0 -1 0 0 0    ... 0]\n",
    "        [-1 5 -1 0 0 -1 0 0   ... 0]\n",
    "        [0 -1 5 -1 0 0 -1     ... 0]\n",
    "        [0 0 -1 6 0 0 0 -1    ... 0]\n",
    "        [-1 0 0 0 5 -1 0 0 -1      ]\n",
    "        [0 -1 0 0 -1 4 -1 0 0 -1   ]\n",
    "        ]\n",
    "       \n",
    "blocos: \n",
    "        [\n",
    "        [6 -1 0 0 |-1 0 0 0|    ... 0]\n",
    "        [-1 5 -1 0|0 -1 0 0|    ... 0]\n",
    "        [0 -1 5 -1|0 0 -1 0|    ... 0]\n",
    "        [0 0 -1 6 |0 0 0 -1|    ... 0]\n",
    "        \n",
    "        [-1 0 0 0 |5 -1 0 0 | -1     ]\n",
    "        [0 -1 0 0 |-1 4 -1 0|0 -1    ]\n",
    "        ]\n",
    "16x16\n",
    "6 vem das quinas\n",
    "5 fronteiras"
   ]
  },
  {
   "cell_type": "code",
   "execution_count": 34,
   "id": "10e6e749",
   "metadata": {},
   "outputs": [
    {
     "data": {
      "image/png": "[encoded data removed]",
      "text/plain": [
       "<Figure size 432x288 with 1 Axes>"
      ]
     },
     "metadata": {
      "needs_background": "light"
     },
     "output_type": "display_data"
    },
    {
     "data": {
      "image/png": "[encoded data removed]",
      "text/plain": [
       "<Figure size 432x288 with 1 Axes>"
      ]
     },
     "metadata": {
      "needs_background": "light"
     },
     "output_type": "display_data"
    },
    {
     "data": {
      "image/png": "[encoded data removed]",
      "text/plain": [
       "<Figure size 432x288 with 1 Axes>"
      ]
     },
     "metadata": {
      "needs_background": "light"
     },
     "output_type": "display_data"
    }
   ],
   "source": [
    "import numpy as np\n",
    "import matplotlib.pyplot as plt\n",
    "from scipy.sparse import diags, csr_matrix\n",
    "from scipy.sparse.linalg import spsolve\n",
    "\n",
    "def phi(x,y):\n",
    "    return np.sin(2*np.pi*x)*np.sin(2*np.pi*y)\n",
    "def f(x,y):\n",
    "    return -8*(np.pi**2)*np.sin(2*np.pi*x)*np.sin(2*np.pi*y)\n",
    "def main():\n",
    "    N = 64\n",
    "    #gráficos 2D\n",
    "    x = np.linspace(0,1,N)\n",
    "    y = np.linspace(0,1,N)\n",
    "    [X,Y] = np.meshgrid(x,y)\n",
    "    Z = phi(X,Y)\n",
    "    fig,ax = plt.subplots()\n",
    "    ax.imshow(Z)\n",
    "    plt.show()\n",
    "    \n",
    "    fig,ax = plt.subplots()\n",
    "    ax.contour(Z)\n",
    "    plt.show()\n",
    "    \n",
    "    ax = plt.figure().add_subplot(projection='3d')\n",
    "    ax.plot_surface(X,Y,Z)\n",
    "    plt.show()\n",
    "    \n",
    "main()"
   ]
  },
  {
   "cell_type": "markdown",
   "id": "49dbfb69",
   "metadata": {},
   "source": [
    "<h2>15/06/2022</h2>\n",
    "\n",
    "Antes:\n",
    "\n",
    "-Gráfico da sol. exata:\n",
    "\n",
    "$\\phi (x,y) = sin(2\\pi x)sin(2\\pi y)$\n",
    "\n",
    "-Montagem da matriz:\n",
    "\n",
    "N: número de subintervalos/pontos em cada direção"
   ]
  },
  {
   "cell_type": "markdown",
   "id": "5d4283cc",
   "metadata": {},
   "source": [
    "A1 = [\n",
    "        [3 -1 0 0 ... 0]\n",
    "        [-1 2 -1 0 ... 0]\n",
    "        [.        .    0]\n",
    "        [.         .   0]\n",
    "        [.       -1 2 -1]\n",
    "        [0          -1 3]\n",
    "     ]"
   ]
  },
  {
   "cell_type": "code",
   "execution_count": 14,
   "id": "425ee098",
   "metadata": {},
   "outputs": [
    {
     "name": "stdout",
     "output_type": "stream",
     "text": [
      "[0.03125 0.09375 0.15625 0.21875 0.28125 0.34375 0.40625 0.46875 0.53125\n",
      " 0.59375 0.65625 0.71875 0.78125 0.84375 0.90625 0.96875]\n",
      "0.5299902449298158\n"
     ]
    },
    {
     "data": {
      "image/png": "[encoded data removed]",
      "text/plain": [
       "<Figure size 432x288 with 1 Axes>"
      ]
     },
     "metadata": {
      "needs_background": "light"
     },
     "output_type": "display_data"
    }
   ],
   "source": [
    "import numpy as np\n",
    "import matplotlib.pyplot as plt\n",
    "from scipy.sparse import diags, csr_matrix\n",
    "from scipy.sparse.linalg import spsolve\n",
    "\n",
    "def phi(x,y):\n",
    "    return np.sin(2*np.pi*x)*np.sin(2*np.pi*y)\n",
    "def f(x,y):\n",
    "    return -8*(np.pi**2)*np.sin(2*np.pi*x)*np.sin(2*np.pi*y)\n",
    "\n",
    "def main():\n",
    "    N = 16\n",
    "    a = 0\n",
    "    b = 1\n",
    "    dx = (b-a)/N\n",
    "    \n",
    "    k = [np.ones(N-1),-2*np.ones(N),np.ones(N-1)]\n",
    "    offset = [-1,0,1]\n",
    "    A1 = diags(k,offset).toarray()\n",
    "    \n",
    "    A1[0][0] = A1[0][0] -1\n",
    "    A1[N-1][N-1] = A1[N-1][N-1] -1\n",
    "    \n",
    "    I = np.eye(N)\n",
    "    \n",
    "    A = csr_matrix(np.kron(A1,I) + np.kron(I,A1))\n",
    "    \n",
    "    plt.figure(1)\n",
    "    plt.spy(A)\n",
    "    \n",
    "    #PHIexata : um vetor de tamanho N^2\n",
    "    #rhs: right hand side\n",
    "    \n",
    "    phiex = np.zeros(N**2)\n",
    "    rhs = np.zeros(N**2)\n",
    "    \n",
    "    #x = np.linspace(a,b,N)\n",
    "    #y = np.linspace(a,b,N)\n",
    "    x = np.zeros(N)\n",
    "    y= np.zeros(N)\n",
    "    for i in range(N):\n",
    "        x[i] = a + (i+0.5)*dx\n",
    "        y[i] = a + (i+0.5)*dx\n",
    "    \n",
    "    for j in range(N):\n",
    "        for(i) in range(N):\n",
    "            phiex[i+j*N] = phi(x[i],y[i])\n",
    "            rhs[i+j*N] = (dx**2)*f(x[i],y[i])\n",
    "            \n",
    "    #rhs[0] = rhs[0]+2*phi(a,y[0])+2phi(x[0],a)\n",
    "    #rhs[N-1] = rhs[N-1] + 2*phi(b,y[0]) + 2*phi(x[N-1],a)\n",
    "    #rhs[N**2 - N] = rhs[N**2 - N] + 2*phi(b,y[N-1]) + 2*phi(x[0],b)\n",
    "    #rhs[N**2 - 1] = rhs[N**2 - 1] + 2*phi(b,y[N-1]) + 2*phi(x[N-1],b)\n",
    "    \n",
    "    for i in range(N):\n",
    "        rhs[i] = rhs[i] + 2*phi(x[i],a)\n",
    "        rhs[N**2 - 1 - i] = rhs[N**2 - 1 - i] + 2*phi(x[N-1-i], b)\n",
    "    for j in range(N):\n",
    "        rhs[j*N] = rhs[j*N] + 2*phi(a,y[j])\n",
    "        rhs[(N-1)+j*N] = rhs[(N-1)+j*N] + 2*phi(b,y[j])\n",
    "    \n",
    "    phiaprox = spsolve(A,rhs)\n",
    "    print(x)\n",
    "    err = np.zeros(N)\n",
    "    for i in range(N):\n",
    "        err[i] = np.abs(phiex[i] - phiaprox[i])\n",
    "    #print(err,\"\\n\")\n",
    "    #print(\"N =\", N, \"| err ->\", np.linalg.norm(err, ord = np.inf))\n",
    "    print(err.max())\n",
    "main()"
   ]
  },
  {
   "cell_type": "markdown",
   "id": "7d04f77f",
   "metadata": {},
   "source": [
    "<h1>Trabalho 1</h1>\n",
    "<h2>Equação do Calor 2D </h2>\n",
    "\n",
    "$\\frac{\\partial \\phi}{\\partial t} = k(\\frac{\\partial^2 \\phi}{\\partial x^2} + \\frac{\\partial^2 \\phi}{\\partial y^2}) + f(x,y,t)$\n",
    "\n",
    "Das diferenças finitas + método de Euler explícito, com $\\Delta x = \\Delta y = h$:\n",
    "\n",
    "$\\phi_{ij}^{n+1} = \\phi_{ij}^{n} + k \\frac{\\Delta t}{h^2}(\\phi_{i-1,j}^{n}+\\phi_{i,j-1}^{n}-4\\phi_{i,j}^{n}+\\phi_{i+1,j}^{n}+\\phi_{i,j+1}^{n}) + \\Delta t f(x,y,t)$\n",
    "\n",
    "\n",
    "Das diferenças finitas + método de Euler implícito, com $\\Delta x = \\Delta y = h$:\n",
    "\n",
    "$\\phi_{ij}^{n+1} - k \\frac{\\Delta t}{h^2}(\\phi_{i-1,j}^{n+1}+\\phi_{i,j-1}^{n+1}-4\\phi_{i,j}^{n+1}+\\phi_{i+1,j}^{n+1}+\\phi_{i,j+1}^{n+1}) = \\phi_{ij}^{n+1} + \\Delta t f(x,y,t)$\n",
    "\n",
    "Tratamento para cond. fronteira.\n",
    "\n",
    "Cond. de contorno vem do problema."
   ]
  },
  {
   "cell_type": "code",
   "execution_count": 1,
   "id": "7ee6ac6b",
   "metadata": {},
   "outputs": [
    {
     "name": "stdout",
     "output_type": "stream",
     "text": [
      "(1.7822137936934959, 4, 4)\n"
     ]
    }
   ],
   "source": [
    "import numpy as np\n",
    "import matplotlib.pyplot as plt\n",
    "from scipy.sparse import diags, csr_matrix\n",
    "from scipy.sparse.linalg import spsolve\n",
    "\n",
    "def phi(x,y,t):\n",
    "    return (np.exp(-t))*np.sin(2*np.pi*x)*np.sin(2*np.pi*y)\n",
    "\n",
    "def fu(x,y,t,k):\n",
    "    return ((8*k*np.pi**2 - 1)*phi(x,y,t))\n",
    "\n",
    "def fronteira(Np1,phiold,x,y,t,a,b):\n",
    "    #células fantasmas\n",
    "    N = Np1 - 2\n",
    "    for i in range(1,N+1):\n",
    "        phiold[i][0] = 2*phi(x[i],a,t) - phiold[i,1]\n",
    "        phiold[i,N+1] = 2*phi(x[i],b,t) - phiold[i,N]\n",
    "    for j in range(1,N+1):\n",
    "        phiold[0][j] = 2*phi(a,y[j],t) - phiold[1,j]\n",
    "        phiold[N+1,j] = 2*phi(b,y[j],t) - phiold[N,j]\n",
    "    return phiold\n",
    "\n",
    "def norma(m,N):\n",
    "    maximo = 0\n",
    "    im = 0\n",
    "    jm = 0\n",
    "    for i in range(N):\n",
    "        for j in range(N):\n",
    "            if(maximo < abs(m[i][j])):\n",
    "                maximo = abs(m[i][j])\n",
    "                im = i\n",
    "                jm = j\n",
    "    return (maximo,im,jm)\n",
    "\n",
    "def main():\n",
    "    N = 8\n",
    "    a = 0\n",
    "    b = 1\n",
    "    k = 1\n",
    "    \n",
    "    dx = (b-a)/N\n",
    "    dy = (b-a)/N\n",
    "    h = dx\n",
    "    \n",
    "    t = 0\n",
    "    tf = 0.25\n",
    "    dt = 0.125*dx**2\n",
    "    dt0 = dt\n",
    "    \n",
    "    c = k*(dt0/(h**2))\n",
    "    \n",
    "    \n",
    "    Np1 = N + 2\n",
    "    phiex = np.zeros((Np1,Np1))\n",
    "    phiaprox = np.zeros((Np1,Np1))\n",
    "    phiold = np.zeros((Np1,Np1))\n",
    "    f = np.zeros((Np1,Np1))\n",
    "    \n",
    "    x = np.zeros(Np1)\n",
    "    y= np.zeros(Np1)\n",
    "    for i in range(Np1):\n",
    "        x[i] = a + (i+1)*dx/2\n",
    "        y[i] = a + (i+1)*dx/2\n",
    "    \n",
    "    for i in range(Np1):\n",
    "        for j in range(Np1):\n",
    "            phiold[i][j] = phi(x[i],y[j],0)\n",
    "    \n",
    "    \n",
    "    fronteira(Np1,phiold,x,y,t,a,b)\n",
    "    \n",
    "    while(t<tf+dt/2):\n",
    "        for i in range(1,N+1):\n",
    "            for j in range(1,N+1):\n",
    "                phiex[i][j] = phi(x[i],y[j],t+dt)\n",
    "                phiaprox[i][j] = phiold[i][j] + c*(phiold[i-1][j] + phiold[i][j-1] -4*phiold[i][j] + phiold[i][j+1] + phiold[i+1][j]) + dt*fu(x[i],y[j],t+dt,k)\n",
    "        dt = min(dt, tf-t)\n",
    "        t = t+dt\n",
    "        c = k*(dt/(h**2))\n",
    "        phiaprox = fronteira(Np1,phiaprox,x,y,t,a,b)\n",
    "        phiold = phiaprox\n",
    "        #print(phiaprox.max())\n",
    "        \n",
    "    #print(abs(phiex-phiaprox))\n",
    "    err = np.zeros((Np1,Np1))\n",
    "    for i in range(1,N+1):\n",
    "            for j in range(1,N+1):\n",
    "                err[i][j] = abs(phiex[i][j] - phiaprox[i][j])\n",
    "    #print(\"N =\", N, \"| err ->\", np.linalg.norm(err, ord = np.inf,axis=1))\n",
    "    #print(err.max())\n",
    "    print(norma(err,Np1))\n",
    "    \n",
    "main()"
   ]
  },
  {
   "cell_type": "markdown",
   "id": "169e74be",
   "metadata": {},
   "source": [
    "<h1>Entregas disciplina</h1>\n",
    "\n",
    "<h3>18/07: Retorno das atividades</h3>\n",
    "\n",
    "<h3>20/07: Relatório sobre a experiência e aprendizado da disciplina</h3>\n",
    "\n",
    "<h3>25 a 27/07: Práticas</h3>"
   ]
  },
  {
   "cell_type": "markdown",
   "id": "5e68558a",
   "metadata": {},
   "source": [
    "<h1>13/07/2022 - Equação da Advecção-Difusão (Regime Permanente/Equilíbrio)</h1>\n",
    "\n",
    "$\\phi$ é uma propriedade escalar\n",
    "\n",
    "$\\frac{\\partial (\\rho u \\phi)}{\\partial x} + \\frac{\\partial (\\rho v \\phi)}{\\partial y} = \\frac{\\partial}{\\partial x}(k \\frac{\\partial \\phi}{\\partial x}) + \\frac{\\partial}{\\partial y}(k \\frac{\\partial \\phi}{\\partial y}) + f(x,y)$\n",
    "\n",
    "(lado direito) Resgatar código Poisson 2D\n",
    "\n",
    "N = 8 -> razão erro $E_8/E_{16}$\n",
    "\n",
    "N = 16 -> razão erro $E_{16}/E_{32}$\n",
    "\n",
    "Sequência (razão erro) deve convergir para 4 = $2^2$ (ordem do método)\n",
    "\n",
    "Volumes Finitos: Integrar a equação sobre o volume V\n",
    "\n",
    "$\\int [\\frac{\\partial (\\rho u \\phi)}{\\partial x} + \\frac{\\partial (\\rho v \\phi)}{\\partial y}]dV = \\int [\\frac{\\partial}{\\partial x}(k \\frac{\\partial \\phi}{\\partial x}) + \\frac{\\partial}{\\partial y}(k \\frac{\\partial \\phi}{\\partial y})] dV + \\int f(x,y) dV$\n",
    "\n",
    "$\\int div(\\rho u \\phi)dV = \\int div(k* grad (\\phi))dV + \\int f(x,y) dV$\n",
    "\n",
    "Teorema da divergência de Gauss: $\\int div(a)dV = \\int (n.a)dA$\n",
    "\n",
    "<b>n from north, s from south, etc.</b>\n",
    "\n",
    "$h[(\\rho u \\phi)_e - (\\rho u \\phi)_w + (\\rho v \\phi)_n - (\\rho v \\phi)_s] = h(k\\frac{\\partial \\phi}{\\partial x})$\n",
    "\n",
    "Vamos considerar: $F_e = (\\rho u)_e, F_w = (\\rho u)_w, F_n = (\\rho v)_n, F_s = (\\rho v)_s$\n",
    "\n",
    "D = $\\frac {k}{h}$\n",
    "\n",
    "$\\frac{\\partial \\phi}{\\partial x}_e = \\frac{\\phi_e - \\phi_p}{h}$\n",
    "\n",
    "$\\frac{\\partial \\phi}{\\partial x}_w = \\frac{\\phi_p - \\phi_w}{h}$\n",
    "\n",
    "$\\phi_w = \\frac{1}{2}(\\phi_w + \\phi_p)$, etc.\n",
    "\n",
    "$\\frac{F_e(\\phi_e + \\phi_p)}{2} - \\frac{F_w(\\phi_w + \\phi_p)}{2} + \\frac{F_n(\\phi_n + \\phi_p)}{2} - \\frac{F_s(\\phi_s + \\phi_p)}{2} = D_e(\\phi_e - \\phi_p) - D_w(\\phi_p - \\phi_w) + D_n(\\phi_n - \\phi_p) - D_s(\\phi_p - \\phi_s)$\n",
    "\n",
    "$a_w \\phi_w + a_e \\phi_e + a_n \\phi_n + a_s \\phi_s = hf$\n",
    "\n",
    "$a_w = \\frac{F_w}{2} - D_w$\n",
    "\n",
    "$a_e = \\frac{F_e}{2} - D_e$\n",
    "\n",
    "$a_n = \\frac{F_n}{2} - D_n$\n",
    "\n",
    "$a_s = \\frac{F_s}{2} - D_s$\n",
    "\n",
    "$a_p = \\frac{F_e}{2} - \\frac{F_w}{2} + \\frac{F_n}{2} - \\frac{F_s}{2}$\n",
    "\n",
    "- Alterar os elementos da matriz\n",
    "\n",
    "- Efeitos da cond. contorno na matriz\n",
    "\n",
    "- Alterar a f\n",
    "\n",
    "k =1, $\\rho u = \\rho v = 1$\n",
    "\n",
    "$f = -\\frac{\\partial^2 \\phi}{\\partial x^2} -\\frac{\\partial^2 \\phi}{\\partial y^2} + \\frac{\\partial \\phi}{\\partial x} + \\frac{\\partial \\phi}{\\partial y}$"
   ]
  },
  {
   "cell_type": "markdown",
   "id": "5df70e52",
   "metadata": {},
   "source": [
    "# Poisson 2D"
   ]
  },
  {
   "cell_type": "code",
   "execution_count": 5,
   "id": "280edb00",
   "metadata": {
    "scrolled": true
   },
   "outputs": [
    {
     "name": "stdout",
     "output_type": "stream",
     "text": [
      "[0.03125 0.09375 0.15625 0.21875 0.28125 0.34375 0.40625 0.46875 0.53125\n",
      " 0.59375 0.65625 0.71875 0.78125 0.84375 0.90625 0.96875]\n",
      "0.012457838274481103\n"
     ]
    },
    {
     "data": {
      "image/png": "[encoded data removed]",
      "text/plain": [
       "<Figure size 432x288 with 1 Axes>"
      ]
     },
     "metadata": {
      "needs_background": "light"
     },
     "output_type": "display_data"
    }
   ],
   "source": [
    "import numpy as np\n",
    "import matplotlib.pyplot as plt\n",
    "from scipy.sparse import diags, csr_matrix\n",
    "from scipy.sparse.linalg import spsolve\n",
    "\n",
    "def phi(x,y):\n",
    "    return np.sin(2*np.pi*x)*np.sin(2*np.pi*y)\n",
    "def f(x,y):\n",
    "    return -8*(np.pi**2)*np.sin(2*np.pi*x)*np.sin(2*np.pi*y)\n",
    "\n",
    "def main():\n",
    "    N = 16\n",
    "    a = 0\n",
    "    b = 1\n",
    "    dx = (b-a)/N\n",
    "    \n",
    "    k = [np.ones(N-1),-2*np.ones(N),np.ones(N-1)]\n",
    "    offset = [-1,0,1]\n",
    "    A1 = diags(k,offset).toarray()\n",
    "    \n",
    "    A1[0][0] = A1[0][0] -1\n",
    "    A1[N-1][N-1] = A1[N-1][N-1] -1\n",
    "    \n",
    "    I = np.eye(N)\n",
    "    \n",
    "    A = csr_matrix(np.kron(A1,I) + np.kron(I,A1))\n",
    "    \n",
    "    plt.figure(1)\n",
    "    plt.spy(A)\n",
    "    \n",
    "    #PHIexata : um vetor de tamanho N^2\n",
    "    #rhs: right hand side\n",
    "    \n",
    "    phiex = np.zeros(N**2)\n",
    "    rhs = np.zeros(N**2)\n",
    "    \n",
    "    #x = np.linspace(a,b,N)\n",
    "    #y = np.linspace(a,b,N)\n",
    "    x = np.zeros(N)\n",
    "    y= np.zeros(N)\n",
    "    for i in range(N):\n",
    "        x[i] = a + (i+0.5)*dx\n",
    "        y[i] = a + (i+0.5)*dx\n",
    "    \n",
    "    for j in range(N):\n",
    "        for i in range(N):\n",
    "            phiex[i+j*N] = phi(x[i],y[j])\n",
    "            rhs[i+j*N] = (dx**2)*f(x[i],y[j])\n",
    "    \n",
    "    for i in range(N):\n",
    "        rhs[i] = rhs[i] + 2*phi(x[i],a)\n",
    "        rhs[N**2 - 1 - i] = rhs[N**2 - 1 - i] + 2*phi(x[N-1-i], b)\n",
    "    for j in range(N):\n",
    "        rhs[j*N] = rhs[j*N] + 2*phi(a,y[j])\n",
    "        rhs[(N-1)+j*N] = rhs[(N-1)+j*N] + 2*phi(b,y[j])\n",
    "    \n",
    "    phiaprox = spsolve(A,rhs)\n",
    "    print(x)\n",
    "    err = np.zeros(N**2)\n",
    "    for i in range(N**2):\n",
    "        err[i] = np.abs(phiex[i] - phiaprox[i])\n",
    "    #print(err,\"\\n\")\n",
    "    #print(\"N =\", N, \"| err ->\", np.linalg.norm(err, ord = np.inf))\n",
    "    print(err.max())\n",
    "    \n",
    "main()"
   ]
  },
  {
   "cell_type": "markdown",
   "id": "eacba240",
   "metadata": {},
   "source": [
    "# Erro Poisson 2D - Convergência\n",
    "\n",
    "Razão entre os erros convergindo para $2^x$ onde x = 2, ordem do método"
   ]
  },
  {
   "cell_type": "code",
   "execution_count": 2,
   "id": "67e3373f",
   "metadata": {},
   "outputs": [
    {
     "name": "stdout",
     "output_type": "stream",
     "text": [
      "[3.63332122 3.90768102 3.97688106 3.99421784]\n"
     ]
    }
   ],
   "source": [
    "#N = 8 | err -> 0.045263328185220164\n",
    "#N = 16 | err -> 0.012457838274481103\n",
    "#N = 32 | err -> 0.0031880386905250857\n",
    "#N = 64 | err -> 0.0008016429562909266\n",
    "#N = 128 | err -> 0.00020070086036605428\n",
    "\n",
    "e = np.zeros(4)\n",
    "e[0] = 0.045263328185220164/0.012457838274481103\n",
    "e[1] = 0.012457838274481103/0.0031880386905250857\n",
    "e[2] = 0.0031880386905250857/0.0008016429562909266\n",
    "e[3] = 0.0008016429562909266/0.00020070086036605428\n",
    "\n",
    "print(e)"
   ]
  },
  {
   "cell_type": "markdown",
   "id": "b6d23e22",
   "metadata": {},
   "source": [
    "# Eq. da advecção-difusão\n",
    "\n",
    "- Alterar os elementos da matriz -<b>done</b>\n",
    " \n",
    "- Efeitos da cond. contorno na matriz -<b>done</b>\n",
    "\n",
    "- Alterar a f  -<b>done</b>\n",
    "\n",
    "$\\frac{\\partial (\\rho u \\phi)}{\\partial x} + \\frac{\\partial (\\rho v \\phi)}{\\partial y} = \\frac{\\partial}{\\partial x}(k \\frac{\\partial \\phi}{\\partial x}) + \\frac{\\partial}{\\partial y}(k \\frac{\\partial \\phi}{\\partial y}) + f(x,y)$\n",
    "\n",
    "$\\rho u = \\rho v = k = 1$\n",
    "\n",
    "$f = -\\frac{\\partial^2 \\phi}{\\partial x^2} -\\frac{\\partial^2 \\phi}{\\partial y^2} + \\frac{\\partial \\phi}{\\partial x} + \\frac{\\partial \\phi}{\\partial y}$\n",
    "\n",
    "Para uma dimensão, temos:\n",
    "\n",
    "$f = -\\frac{\\partial^2 \\phi}{\\partial x^2} + \\frac{\\partial \\phi}{\\partial x}$\n",
    "\n",
    "Discretizando:\n",
    "\n",
    "$f = -\\frac{(\\phi_{i+1} - 2\\phi_{i} + \\phi_{i-1})}{\\Delta x^2} + \\frac{(\\phi_{i+1} -\\phi_{i-1})}{2\\Delta x}$\n",
    "\n",
    "Desta forma temos que os coeficientes da matriz A1 são dados por:\n",
    "\n",
    "$-\\Delta x^2 f = \\phi_{i+1}(1+\\Delta x/2) - 2\\phi_{i} + \\phi_{i-1}(1-\\Delta x/2) + O(\\Delta x^2)$"
   ]
  },
  {
   "cell_type": "code",
   "execution_count": 4,
   "id": "d7249493",
   "metadata": {
    "scrolled": false
   },
   "outputs": [
    {
     "name": "stdout",
     "output_type": "stream",
     "text": [
      "[[-3.      0.9375  0.      0.      0.      0.      0.      0.    ]\n",
      " [ 1.0625 -2.      0.9375  0.      0.      0.      0.      0.    ]\n",
      " [ 0.      1.0625 -2.      0.9375  0.      0.      0.      0.    ]\n",
      " [ 0.      0.      1.0625 -2.      0.9375  0.      0.      0.    ]\n",
      " [ 0.      0.      0.      1.0625 -2.      0.9375  0.      0.    ]\n",
      " [ 0.      0.      0.      0.      1.0625 -2.      0.9375  0.    ]\n",
      " [ 0.      0.      0.      0.      0.      1.0625 -2.      0.9375]\n",
      " [ 0.      0.      0.      0.      0.      0.      1.0625 -3.    ]]\n",
      "0.053914064318804744\n"
     ]
    },
    {
     "data": {
      "image/png": "[encoded data removed]",
      "text/plain": [
       "<Figure size 432x288 with 1 Axes>"
      ]
     },
     "metadata": {
      "needs_background": "light"
     },
     "output_type": "display_data"
    }
   ],
   "source": [
    "import numpy as np\n",
    "import matplotlib.pyplot as plt\n",
    "from scipy.sparse import diags, csr_matrix\n",
    "from scipy.sparse.linalg import spsolve\n",
    "\n",
    "def phi(x,y):\n",
    "    return np.sin(2*np.pi*x)*np.sin(2*np.pi*y)\n",
    "\n",
    "def f(x,y):\n",
    "    return 8*(np.pi**2)*np.sin(2*np.pi*x)*np.sin(2*np.pi*y) + 2*np.pi*(np.cos(2*np.pi*x)*np.sin(2*np.pi*y)) + 2*np.pi*(np.sin(2*np.pi*x)*np.cos(2*np.pi*y))\n",
    "    \n",
    "def main():\n",
    "    N = 8\n",
    "    a = 0\n",
    "    b = 1\n",
    "    dx = (b-a)/N\n",
    "    \n",
    "    k = [np.ones(N-1)*(1+dx/2),-2*np.ones(N),np.ones(N-1)*(1-dx/2)]\n",
    "    offset = [-1,0,1]\n",
    "    A1 = diags(k,offset).toarray()\n",
    "    \n",
    "    A1[0][0] = A1[0][0] -1\n",
    "    A1[N-1][N-1] = A1[N-1][N-1] -1\n",
    "    \n",
    "    I = np.eye(N)\n",
    "    \n",
    "    A = csr_matrix(np.kron(A1,I) + np.kron(I,A1))\n",
    "    \n",
    "    plt.figure(1)\n",
    "    plt.spy(A)\n",
    "    \n",
    "    phiex = np.zeros(N**2)\n",
    "    rhs = np.zeros(N**2)\n",
    "\n",
    "    x = np.zeros(N)\n",
    "    y= np.zeros(N)\n",
    "    for i in range(N):\n",
    "        x[i] = a + (i+0.5)*dx\n",
    "        y[i] = a + (i+0.5)*dx\n",
    "    \n",
    "    for j in range(N):\n",
    "        for i in range(N):\n",
    "            phiex[i+j*N] = phi(x[i],y[j])\n",
    "            rhs[i+j*N] = -1*(dx**2)*f(x[i],y[j])\n",
    "    \n",
    "    for i in range(N):\n",
    "        rhs[i] = rhs[i] + 2*phi(x[i],a)\n",
    "        rhs[N**2 - 1 - i] = rhs[N**2 - 1 - i] + 2*phi(x[N-1-i], b)\n",
    "    for j in range(N):\n",
    "        rhs[j*N] = rhs[j*N] + 2*phi(a,y[j])\n",
    "        rhs[(N-1)+j*N] = rhs[(N-1)+j*N] + 2*phi(b,y[j])\n",
    "    \n",
    "    phiaprox = spsolve(A,rhs)\n",
    "    #print(x)\n",
    "    err = np.zeros(N**2)\n",
    "    for i in range(N**2):\n",
    "        err[i] = np.abs(phiex[i] - phiaprox[i])\n",
    "    #print(\"N =\", N, \"| err ->\", np.linalg.norm(err, ord = np.inf))\n",
    "    print(A1)\n",
    "    print(err.max())\n",
    "    \n",
    "main()"
   ]
  },
  {
   "cell_type": "code",
   "execution_count": 3,
   "id": "e1e6d643",
   "metadata": {},
   "outputs": [
    {
     "name": "stdout",
     "output_type": "stream",
     "text": [
      "3.8118797523916377\n"
     ]
    }
   ],
   "source": [
    "print(0.053914064318804744/0.014143694927673978)"
   ]
  },
  {
   "cell_type": "markdown",
   "id": "3b014db0",
   "metadata": {},
   "source": [
    "# Equação do transporte\n",
    "\n",
    "\n",
    "$\\frac{\\partial  \\phi}{\\partial t} + \\frac{\\partial (\\rho u \\phi)}{\\partial x} + \\frac{\\partial (\\rho v \\phi)}{\\partial y} = \\frac{\\partial}{\\partial x}(k \\frac{\\partial \\phi}{\\partial x}) + \\frac{\\partial}{\\partial y}(k \\frac{\\partial \\phi}{\\partial y}) + f(x,y)$\n",
    "\n",
    "\n",
    "Alterando da eq. do calor (trabalho atividade 2)\n",
    "\n",
    "Alterar a f"
   ]
  },
  {
   "cell_type": "code",
   "execution_count": 14,
   "id": "cdf1a1f2",
   "metadata": {},
   "outputs": [
    {
     "name": "stdout",
     "output_type": "stream",
     "text": [
      "0.41559440898141\n"
     ]
    }
   ],
   "source": [
    "import numpy as np\n",
    "import matplotlib.pyplot as plt\n",
    "from scipy.sparse import diags, csr_matrix\n",
    "from scipy.sparse.linalg import spsolve\n",
    "\n",
    "def phi(x,y,t):\n",
    "    return (np.exp(-t))*np.sin(2*np.pi*x)*np.sin(2*np.pi*y)\n",
    "\n",
    "def fu(x,y,t,k):\n",
    "    return ((8*k*np.pi**2 - 1)*phi(x,y,t))\n",
    "\n",
    "def fronteira(Np2,phiold,x,y,t,a,b):\n",
    "    #células fantasmas\n",
    "    N = Np2 - 2\n",
    "    for i in range(1,N+1):\n",
    "        phiold[i][0] = 2*phi(x[i],a,t) - phiold[i,1]\n",
    "        phiold[i,N+1] = 2*phi(x[i],b,t) - phiold[i,N]\n",
    "    for j in range(1,N+1):\n",
    "        phiold[0][j] = 2*phi(a,y[j],t) - phiold[1,j]\n",
    "        phiold[N+1,j] = 2*phi(b,y[j],t) - phiold[N,j]\n",
    "    return phiold\n",
    "\n",
    "def norma(m,N):\n",
    "    maximo = 0\n",
    "    im = 0\n",
    "    jm = 0\n",
    "    for i in range(N):\n",
    "        for j in range(N):\n",
    "            if(maximo < abs(m[i][j])):\n",
    "                maximo = abs(m[i][j])\n",
    "                im = i\n",
    "                jm = j\n",
    "    return (maximo,im,jm)\n",
    "\n",
    "def main():\n",
    "    N = 8\n",
    "    a = 0\n",
    "    b = 1\n",
    "    k = 1\n",
    "    \n",
    "    dx = (b-a)/N\n",
    "    dy = (b-a)/N\n",
    "    h = dx\n",
    "    \n",
    "    t = 0\n",
    "    tf = 0.25\n",
    "    dt = 0.125*dx**2\n",
    "    dt0 = dt\n",
    "    \n",
    "    c = k*(dt0/(h**2))\n",
    "    \n",
    "    \n",
    "    Np2 = N + 2\n",
    "    phiex = np.zeros((Np2,Np2))\n",
    "    phiaprox = np.zeros((Np2,Np2))\n",
    "    phiold = np.zeros((Np2,Np2))\n",
    "    f = np.zeros((Np2,Np2))\n",
    "    \n",
    "    x = np.zeros(Np2)\n",
    "    y= np.zeros(Np2)\n",
    "    for i in range(Np2):\n",
    "        x[i] = a + (i+0.5)*dx\n",
    "        y[i] = a + (i+0.5)*dx\n",
    "    \n",
    "    for i in range(Np2):\n",
    "        for j in range(Np2):\n",
    "            phiold[i][j] = phi(x[i],y[j],0)\n",
    "    \n",
    "    \n",
    "    fronteira(Np2,phiold,x,y,t,a,b)\n",
    "    \n",
    "    while(t<tf+dt/2):\n",
    "        for i in range(1,N+1):\n",
    "            for j in range(1,N+1):\n",
    "                phiex[i][j] = phi(x[i],y[j],t+dt)\n",
    "                phiaprox[i][j] = phiold[i][j] + c*(phiold[i-1][j] + phiold[i][j-1] -4*phiold[i][j] + phiold[i][j+1] + phiold[i+1][j]) + dt*fu(x[i],y[j],t+dt,k)\n",
    "        dt = min(dt, tf-t)\n",
    "        t = t+dt\n",
    "        c = k*(dt/(h**2))\n",
    "        phiaprox = fronteira(Np2,phiaprox,x,y,t,a,b)\n",
    "        phiold = phiaprox\n",
    "        #print(phiaprox.max())\n",
    "        \n",
    "    #print(abs(phiex-phiaprox))\n",
    "    err = np.zeros((Np2,Np2))\n",
    "    for i in range(1,N+1):\n",
    "            for j in range(1,N+1):\n",
    "                err[i][j] = abs(phiex[i][j] - phiaprox[i][j])\n",
    "    #print(\"N =\", N, \"| err ->\", np.linalg.norm(err, ord = np.inf,axis=1))\n",
    "    print(err.max())\n",
    "    #print(norma(err,Np2))\n",
    "    \n",
    "main()"
   ]
  },
  {
   "cell_type": "code",
   "execution_count": 12,
   "id": "9bc78779",
   "metadata": {},
   "outputs": [
    {
     "name": "stdout",
     "output_type": "stream",
     "text": [
      "1.7871382973420389\n",
      "1.662171926121745\n"
     ]
    }
   ],
   "source": [
    "print(0.2500309399107069/0.13990575899054425)\n",
    "\n",
    "print(0.41559440898141/0.2500309399107069)"
   ]
  },
  {
   "cell_type": "code",
   "execution_count": null,
   "id": "55357796",
   "metadata": {},
   "outputs": [],
   "source": []
  }
 ],
 "metadata": {
  "kernelspec": {
   "display_name": "Python 3 (ipykernel)",
   "language": "python",
   "name": "python3"
  },
  "language_info": {
   "codemirror_mode": {
    "name": "ipython",
    "version": 3
   },
   "file_extension": ".py",
   "mimetype": "text/x-python",
   "name": "python",
   "nbconvert_exporter": "python",
   "pygments_lexer": "ipython3",
   "version": "3.9.7"
  }
 },
 "nbformat": 4,
 "nbformat_minor": 5
}
