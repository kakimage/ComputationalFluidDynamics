{
 "cells": [
  {
   "cell_type": "markdown",
   "id": "edeb6a31",
   "metadata": {},
   "source": [
    "# Equação do transporte\n",
    "\n",
    "\n",
    "$\\frac{\\partial  \\phi}{\\partial t} + \\frac{\\partial (\\rho u \\phi)}{\\partial x} + \\frac{\\partial (\\rho v \\phi)}{\\partial y} = \\frac{\\partial}{\\partial x}(k \\frac{\\partial \\phi}{\\partial x}) + \\frac{\\partial}{\\partial y}(k \\frac{\\partial \\phi}{\\partial y}) + f(x,y)$\n",
    "\n",
    "\n",
    "Alterando da eq. do calor (trabalho atividade 2)\n",
    "\n",
    "$\\rho u = \\rho v = k = 1$\n",
    "\n",
    "$f = -\\frac{\\partial^2 \\phi}{\\partial x^2} -\\frac{\\partial^2 \\phi}{\\partial y^2} + \\frac{\\partial \\phi}{\\partial x} + \\frac{\\partial \\phi}{\\partial y} + \\frac{\\partial \\phi}{\\partial t}$\n",
    "\n",
    "Alterar a f\n",
    "\n",
    "$f(x,y,t) = e^{-t}[(8\\pi^2 - 1)sin(2\\pi x)sin(2\\pi y) + 2\\pi cos(2\\pi x)sin(2\\pi y) + 2\\pi sin(2\\pi x)sin(2\\pi y)]$\n",
    "\n",
    "\n",
    "Das diferenças finitas + Euler explícito, e fazendo $\\Delta x = \\Delta y\\equiv h$\n",
    "\n",
    "$\\frac{\\phi^{n+1}_{i,j} - \\phi^{n}_{i,j}}{\\Delta t} + \n",
    "\\frac{\\phi^{n}_{i+1,j} - \\phi^{n}_{i-1,j}}{2\\Delta x} + \n",
    "\\frac{\\phi^{n}_{i,j+1} - \\phi^{n}_{i,j-1}}{2\\Delta y} = \n",
    "\\frac{\\phi^{n}_{i+1,j} -2\\phi^{n}_{i,j} + \\phi^{n}_{i-1,j}}{\\Delta x^2} + \n",
    "\\frac{\\phi^{n}_{i,j+1} -2\\phi^{n}_{i,j} + \\phi^{n}_{i,j-1}}{\\Delta y^2} + \n",
    "f(x,y,t)$\n",
    "\n",
    "$\\phi_{ij}^{n+1} = \\phi_{ij}^{n} - \\frac {\\Delta t}{2h}(\\phi^{n}_{i+1,j} - \\phi^{n}_{i-1,j} + \\phi^{n}_{i,j+1} - \\phi^{n}_{i,j-1}) +  \\frac{\\Delta t}{h^2}(\\phi_{i-1,j}^{n}+\\phi_{i,j-1}^{n}-4\\phi_{i,j}^{n}+\\phi_{i+1,j}^{n}+\\phi_{i,j+1}^{n}) + \\Delta t f(x,y,t)$\n",
    "\n",
    "adicionar as derivadas extras no cálculo da phi aprox"
   ]
  },
  {
   "cell_type": "code",
   "execution_count": 5,
   "id": "d2faac5b",
   "metadata": {},
   "outputs": [
    {
     "name": "stdout",
     "output_type": "stream",
     "text": [
      "(0.4254473986710457, 1, 1)\n"
     ]
    }
   ],
   "source": [
    "import numpy as np\n",
    "import matplotlib.pyplot as plt\n",
    "from scipy.sparse import diags, csr_matrix\n",
    "from scipy.sparse.linalg import spsolve\n",
    "\n",
    "def phi(x,y,t):\n",
    "    return (np.exp(-t))*np.sin(2*np.pi*x)*np.sin(2*np.pi*y)\n",
    "\n",
    "def fu(x,y,t):\n",
    "    return ((8*np.pi**2 - 1)*phi(x,y,t)) + 2*np.pi*(np.exp(-t))*np.cos(2*np.pi*x)*np.sin(2*np.pi*y) + 2*np.pi*(np.exp(-t))*np.cos(2*np.pi*x)*np.cos(2*np.pi*y)\n",
    "\n",
    "def fronteira(Np2,phiold,x,y,t,a,b):\n",
    "    #células fantasmas\n",
    "    N = Np2 - 2\n",
    "    for i in range(1,N+1):\n",
    "        phiold[i][0] = 2*phi(x[i],a,t) - phiold[i,1]\n",
    "        phiold[i,N+1] = 2*phi(x[i],b,t) - phiold[i,N]\n",
    "    for j in range(1,N+1):\n",
    "        phiold[0][j] = 2*phi(a,y[j],t) - phiold[1,j]\n",
    "        phiold[N+1,j] = 2*phi(b,y[j],t) - phiold[N,j]\n",
    "    return phiold\n",
    "\n",
    "def norma(m,N):\n",
    "    maximo = 0\n",
    "    im = 0\n",
    "    jm = 0\n",
    "    for i in range(N):\n",
    "        for j in range(N):\n",
    "            if(maximo < abs(m[i][j])):\n",
    "                maximo = abs(m[i][j])\n",
    "                im = i\n",
    "                jm = j\n",
    "    return (maximo,im,jm)\n",
    "\n",
    "def main():\n",
    "    N = 8\n",
    "    a = 0\n",
    "    b = 1\n",
    "    k = 1\n",
    "    \n",
    "    dx = (b-a)/N\n",
    "    dy = (b-a)/N\n",
    "    h = dx\n",
    "    \n",
    "    t = 0\n",
    "    tf = 0.25\n",
    "    dt = 0.125*dx**2\n",
    "    dt0 = dt\n",
    "    \n",
    "    c1 = dt0/(2*h)\n",
    "    c2 = dt0/(h**2)\n",
    "    \n",
    "    Np2 = N + 2\n",
    "    phiex = np.zeros((Np2,Np2))\n",
    "    phiaprox = np.zeros((Np2,Np2))\n",
    "    phiold = np.zeros((Np2,Np2))\n",
    "    f = np.zeros((Np2,Np2))\n",
    "    \n",
    "    x = np.zeros(Np2)\n",
    "    y= np.zeros(Np2)\n",
    "    for i in range(Np2):\n",
    "        x[i] = a + (i+0.5)*dx\n",
    "        y[i] = a + (i+0.5)*dx\n",
    "    \n",
    "    for i in range(Np2):\n",
    "        for j in range(Np2):\n",
    "            phiold[i][j] = phi(x[i],y[j],0)\n",
    "    \n",
    "    \n",
    "    fronteira(Np2,phiold,x,y,t,a,b)\n",
    "    \n",
    "    while(t<tf+dt/2):\n",
    "        for i in range(1,N+1):\n",
    "            for j in range(1,N+1):\n",
    "                phiex[i][j] = phi(x[i],y[j],t+dt)\n",
    "                phiaprox[i][j] = phiold[i][j] -c1*(phiold[i+1][j]-phiold[i-1][j]+phiold[i][j+1]-phiold[i][j-1]) + c2*(phiold[i-1][j] + phiold[i][j-1] -4*phiold[i][j] + phiold[i][j+1] + phiold[i+1][j]) + dt*fu(x[i],y[j],t+dt)\n",
    "        dt = min(dt, tf-t)\n",
    "        t = t+dt\n",
    "        c = k*(dt/(h**2))\n",
    "        phiaprox = fronteira(Np2,phiaprox,x,y,t,a,b)\n",
    "        phiold = phiaprox\n",
    "        #print(phiaprox.max())\n",
    "        \n",
    "    #print(abs(phiex-phiaprox))\n",
    "    err = np.zeros((Np2,Np2))\n",
    "    for i in range(1,N+1):\n",
    "            for j in range(1,N+1):\n",
    "                err[i][j] = abs(phiex[i][j] - phiaprox[i][j])\n",
    "    #print(err.max())\n",
    "    print(norma(err,Np2))\n",
    "    \n",
    "main()"
   ]
  },
  {
   "cell_type": "markdown",
   "id": "72158c14",
   "metadata": {},
   "source": [
    "<b>erro para eq transporte 2d</b>\n",
    "\n",
    "N = 8,e = 0.4254473986710457\n",
    "\n",
    "N = 16, e = 0.2601869543902819\n",
    "\n",
    "N = 32, e = 0.1463291654053212"
   ]
  },
  {
   "cell_type": "code",
   "execution_count": 4,
   "id": "7a0f39ba",
   "metadata": {},
   "outputs": [
    {
     "name": "stdout",
     "output_type": "stream",
     "text": [
      "1.635160377921455\n",
      "1.7780936129143008\n"
     ]
    }
   ],
   "source": [
    "#Convergência da sequência\n",
    "print(0.4254473986710457/0.2601869543902819)\n",
    "print(0.2601869543902819/0.1463291654053212)"
   ]
  },
  {
   "cell_type": "code",
   "execution_count": null,
   "id": "a7711bf8",
   "metadata": {},
   "outputs": [],
   "source": []
  }
 ],
 "metadata": {
  "kernelspec": {
   "display_name": "Python 3 (ipykernel)",
   "language": "python",
   "name": "python3"
  },
  "language_info": {
   "codemirror_mode": {
    "name": "ipython",
    "version": 3
   },
   "file_extension": ".py",
   "mimetype": "text/x-python",
   "name": "python",
   "nbconvert_exporter": "python",
   "pygments_lexer": "ipython3",
   "version": "3.9.7"
  }
 },
 "nbformat": 4,
 "nbformat_minor": 5
}
